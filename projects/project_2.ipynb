{
  "cells": [
    {
      "cell_type": "markdown",
      "metadata": {
        "id": "view-in-github",
        "colab_type": "text"
      },
      "source": [
        "<a href=\"https://colab.research.google.com/github/dw-shin/AK-SSAM/blob/main/projects/project_2.ipynb\" target=\"_parent\"><img src=\"https://colab.research.google.com/assets/colab-badge.svg\" alt=\"Open In Colab\"/></a>"
      ]
    },
    {
      "cell_type": "markdown",
      "id": "3cd20e83-6823-44af-a80a-a1a4da7cdf93",
      "metadata": {
        "id": "3cd20e83-6823-44af-a80a-a1a4da7cdf93"
      },
      "source": [
        "# Solving Convection-Diffusion Equations"
      ]
    },
    {
      "cell_type": "code",
      "execution_count": null,
      "id": "dbdc1c7d-76a4-4058-8e7b-047945273b55",
      "metadata": {
        "id": "dbdc1c7d-76a4-4058-8e7b-047945273b55"
      },
      "outputs": [],
      "source": [
        "import numpy as np\n",
        "from scipy.sparse import coo_matrix\n",
        "from scipy.sparse.linalg import spsolve\n",
        "\n",
        "import matplotlib.pyplot as plt\n",
        "from mpl_toolkits.mplot3d import Axes3D\n",
        "%matplotlib inline\n",
        "%config InlineBackend.figure_format='retina'"
      ]
    },
    {
      "cell_type": "markdown",
      "id": "4a61ff91-d897-48a8-aa01-b02a98fa5c68",
      "metadata": {
        "id": "4a61ff91-d897-48a8-aa01-b02a98fa5c68"
      },
      "source": [
        "## 1D\n",
        "\n",
        "Consider the following convection-diffusion equation with homogeneous boudnary condition:\n",
        "$$\n",
        "\\left\\{\\begin{array}{rl}\n",
        "u' - \\epsilon u'' = 0 &\\quad \\text{in} \\ \\Omega \\\\\n",
        "u = 0 &\\quad \\text{on} \\ \\partial\\Omega\n",
        "\\end{array}\\right.\n",
        "$$\n",
        "where $\\epsilon$ is a positive constant."
      ]
    },
    {
      "cell_type": "code",
      "execution_count": null,
      "id": "fad70aa9-20fd-45b5-8972-fca44e80f961",
      "metadata": {
        "id": "fad70aa9-20fd-45b5-8972-fca44e80f961"
      },
      "outputs": [],
      "source": [
        "def mesh_fem_1d(a,b,M,k):\n",
        "    nrNodes = k*M + 1\n",
        "    c4n = np.linspace(a, b, nrNodes)\n",
        "    n4e = np.array([[i*k, (i+1)*k] for i in range(M)])\n",
        "    n4db = np.array([0, nrNodes-1])\n",
        "    ind4e = np.array([list(range(i*k, (i+1)*k+1)) for i in range(M)])\n",
        "    return (c4n,n4e,n4db,ind4e)"
      ]
    },
    {
      "cell_type": "code",
      "execution_count": null,
      "id": "e61aa6fa-bc37-4f8d-9b5c-fb661120cb6a",
      "metadata": {
        "id": "e61aa6fa-bc37-4f8d-9b5c-fb661120cb6a"
      },
      "outputs": [],
      "source": [
        "def get_matrices_1d(k=1):\n",
        "    if k == 1:\n",
        "        M_R = np.array([[2, 1],[1, 2]], dtype=np.float64) / 3.\n",
        "        S_R = np.array([[1, -1],[-1, 1]], dtype=np.float64) / 2.\n",
        "        D_R = np.array([[-1, 1],[-1, 1]], dtype=np.float64) / 2.\n",
        "    elif k == 2:\n",
        "        M_R = np.array([[4, 2, -1],[2, 16, 2],[-1, 2, 4]], dtype=np.float64) / 15.\n",
        "        S_R = np.array([[7, -8, 1],[-8, 16, -8],[1, -8, 7]], dtype=np.float64) / 6.\n",
        "        D_R = np.array([[-3, 4, -1],[-1, 0, 1],[1, -4, 3]], dtype=np.float64) / 2.\n",
        "\n",
        "    ###################################################################################################\n",
        "\t# TODO: Add the matrices for the cubic approximations ($k=3$).\n",
        "\n",
        "\t###################################################################################################\n",
        "    else:\n",
        "        M_R = 0\n",
        "        S_R = 0\n",
        "        D_R = 0\n",
        "    return (M_R, S_R, D_R)"
      ]
    },
    {
      "cell_type": "markdown",
      "id": "e54179d0-0976-433f-835b-7e0a153261f2",
      "metadata": {
        "id": "e54179d0-0976-433f-835b-7e0a153261f2"
      },
      "source": [
        "**Q)** Complete the following code `fem_for_convection_diffusion_1d`"
      ]
    },
    {
      "cell_type": "code",
      "execution_count": null,
      "id": "1ee35a87-7a56-4503-9296-725105a1e5ec",
      "metadata": {
        "id": "1ee35a87-7a56-4503-9296-725105a1e5ec"
      },
      "outputs": [],
      "source": [
        "def fem_for_convection_diffusion_1d(c4n,n4e,n4db,ind4e,k,M_R,S_R,D_R,f,u_D,epsilon):\n",
        "\n",
        "    return"
      ]
    },
    {
      "cell_type": "code",
      "execution_count": null,
      "id": "2a27b2eb-d26a-470f-b5c8-3d25df579972",
      "metadata": {
        "id": "2a27b2eb-d26a-470f-b5c8-3d25df579972"
      },
      "outputs": [],
      "source": [
        "a = 0\n",
        "b = 1\n",
        "T = 1\n",
        "k = 1\n",
        "epsilon = 1e-3\n",
        "\n",
        "iter = 10\n",
        "M = 2 ** np.arange(2,iter+2)\n",
        "f = lambda x: 0*x + 1\n",
        "u_D = lambda x: 0*x\n",
        "\n",
        "M_R, S_R, D_R = get_matrices_1d(k)\n",
        "\n",
        "for i in range(iter):\n",
        "\tc4n, n4e, n4db, ind4e = mesh_fem_1d(a,b,M[i],k)\n",
        "\tu = fem_for_convection_diffusion_1d(c4n,n4e,n4db,ind4e,k,M_R,S_R,D_R,f,u_D,epsilon)\n",
        "\tplt.figure()\n",
        "\tplt.plot(c4n,u)\n",
        "\tplt.title(f'$\\epsilon$= {epsilon},\\t h = 1/{M[i]}')"
      ]
    },
    {
      "cell_type": "markdown",
      "id": "66533039-515d-4b87-95a5-47ca29c96d1d",
      "metadata": {
        "id": "66533039-515d-4b87-95a5-47ca29c96d1d"
      },
      "source": [
        "# 2D\n",
        "\n",
        "Consider the following convection-diffusion equation with homogeneous boudnary condition:\n",
        "$$\n",
        "\\left\\{\\begin{array}{rl}\n",
        "\\boldsymbol{a}\\cdot\\nabla u - \\epsilon \\Delta u = 0 &\\quad \\text{in} \\ \\Omega \\\\\n",
        "u = 0 &\\quad \\text{on} \\ \\partial\\Omega\n",
        "\\end{array}\\right.\n",
        "$$\n",
        "where $\\boldsymbol{a}$ is a convection vector and $\\epsilon$ is a positive constant."
      ]
    },
    {
      "cell_type": "code",
      "execution_count": null,
      "id": "26004258-ec06-4173-8196-0663e31e4527",
      "metadata": {
        "id": "26004258-ec06-4173-8196-0663e31e4527"
      },
      "outputs": [],
      "source": [
        "def mesh_fem_2d(xl, xr, yl, yr, Mx, My, k):\n",
        "\ttmp = np.array([[np.arange(0,k*Mx,k) + (k*Mx+1)*i*k] for i in range(My)]).flatten()\n",
        "\ttmp2 = np.array([[np.arange(k,k*Mx+1,k) + (k*Mx+1)*(i+1)*k] for i in range(My)]).flatten()\n",
        "\ttmp3 = list(np.concatenate([list(j*(Mx*k+1)+np.arange(0,k+1-j)) for j in range(k+1)]))\n",
        "\tind4e = np.array([tmp[np.int32(i/2)]+tmp3 if i % 2 == 0 else tmp2[np.int32((i-1)/2)] - tmp3 for i in range(2*Mx*My)])\n",
        "\tn4e = np.array([[ind4e[i,k], ind4e[i,np.int32((k+1)*(k+2)/2-1)], ind4e[i,0]] for i in range(ind4e.shape[0])])\n",
        "\tn4db = np.concatenate([[i for i in range(0,k*Mx+1)], [i for i in range(2*k*Mx+1,(k*Mx+1)*(k*My+1),(k*Mx+1))],\n",
        "\t\t\t[i for i in range((k*Mx+1)*(k*My+1)-2,k*My*(k*Mx+1)-1,-1)], [i for i in range((k*My-1)*(k*Mx+1),k*Mx,-(k*Mx+1))]])\n",
        "\tx = np.linspace(xl,xr,k*Mx+1)\n",
        "\ty = np.linspace(yl,yr,k*My+1)\n",
        "\tx = np.tile(x, (1,k*My+1)).flatten()\n",
        "\ty = np.tile(y,(k*Mx+1,1)).T.flatten()\n",
        "\tc4n = np.array([[x[i], y[i]] for i in range(len(x))])\n",
        "\treturn (c4n,n4e,n4db,ind4e)"
      ]
    },
    {
      "cell_type": "code",
      "execution_count": null,
      "id": "5065e043-0488-4d86-a5a7-cc1cb40e8297",
      "metadata": {
        "id": "5065e043-0488-4d86-a5a7-cc1cb40e8297"
      },
      "outputs": [],
      "source": [
        "def get_matrices_2d_triangle(k=1):\n",
        "\tif k == 1:\n",
        "\t\tM_R = np.array([[2, 1, 1], [1, 2, 1], [1, 1, 2]])/6.\n",
        "\t\tSrr_R = np.array([[1, -1, 0], [-1, 1, 0], [0, 0, 0]])/2.\n",
        "\t\tSrs_R = np.array([[1, 0, -1], [-1, 0, 1], [0, 0, 0]])/2.\n",
        "\t\tSsr_R = np.array([[1, -1, 0], [0, 0, 0], [-1, 1, 0]])/2.\n",
        "\t\tSss_R = np.array([[1, 0, -1], [0, 0, 0], [-1, 0, 1]])/2.\n",
        "\t\tDr_R = np.array([[-1, 1, 0], [-1, 1, 0], [-1, 1, 0]])/2.\n",
        "\t\tDs_R = np.array([[-1, 0, 1], [-1, 0, 1], [-1, 0, 1]])/2.\n",
        "\telif k == 2:\n",
        "\t\tM_R = np.array([[6, 0, -1, 0, -4, -1], [0, 32, 0, 16, 16, -4], [-1, 0, 6, -4, 0, -1],\n",
        "\t\t\t[0, 16, -4, 32, 16, 0], [-4, 16, 0, 16, 32, 0], [-1, -4, -1, 0, 0, 6]])/90.\n",
        "\t\tSrr_R = np.array([[3 ,-4, 1, 0, 0, 0], [-4, 8, -4, 0, 0, 0], [1, -4, 3, 0, 0, 0],\n",
        "\t\t\t[0, 0, 0, 8, -8, 0], [0, 0, 0, -8, 8, 0], [0, 0, 0, 0, 0, 0]])/6.\n",
        "\t\tSrs_R = np.array([[3, 0, 0, -4, 0, 1], [-4, 4, 0, 4, -4, 0], [1, -4, 0, 0, 4, -1],\n",
        "\t\t\t[0, 4, 0, 4, -4, -4], [0, -4, 0, -4, 4, 4], [0, 0, 0, 0, 0, 0]])/6.\n",
        "\t\tSsr_R = np.array([[3, -4, 1, 0, 0, 0], [0, 4, -4, 4, -4, 0], [0, 0, 0, 0, 0, 0],\n",
        "\t\t\t[-4, 4, 0, 4, -4, 0], [0, -4, 4, -4, 4, 0], [1, 0, -1, -4, 4, 0]])/6.\n",
        "\t\tSss_R = np.array([[3, 0, 0, -4, 0, 1], [0, 8, 0, 0, -8, 0], [0, 0, 0, 0, 0, 0],\n",
        "\t\t\t[-4, 0, 0, 8, 0, -4], [0, -8, 0, 0, 8, 0], [1, 0, 0, -4, 0, 3]])/6.\n",
        "\t\tDr_R = np.array([[-3, 4, -1, 0, 0, 0], [-1, 0, 1, 0, 0, 0], [1, -4, 3, 0, 0, 0],\n",
        "\t\t\t[-1, 2, -1, -2, 2, 0], [1, -2, 1, -2, 2, 0], [1, 0, -1, -4, 4, 0]])/2.\n",
        "\t\tDs_R = np.array([[-3, 0, 0, 4, 0, -1], [-1, -2, 0, 2, 2, -1], [1, -4, 0, 0, 4, -1],\n",
        "\t\t\t[-1, 0, 0, 0, 0, 1], [1, -2, 0, -2, 2, 1], [1, 0, 0, -4, 0, 3]])/2.\n",
        "\n",
        "\t###################################################################################################\n",
        "\t# TODO: Add the matrices for the cubic approximations ($k=3$).\n",
        "\n",
        "\t###################################################################################################\n",
        "\telse:\n",
        "\t\tM_R = 0\n",
        "\t\tSrr_R = 0\n",
        "\t\tSrs_R = 0\n",
        "\t\tSsr_R = 0\n",
        "\t\tSss_R = 0\n",
        "\t\tDr_R = 0\n",
        "\t\tDs_R = 0\n",
        "\treturn (M_R, Srr_R, Srs_R, Ssr_R, Sss_R, Dr_R, Ds_R)"
      ]
    },
    {
      "cell_type": "markdown",
      "id": "35ad8ed9-9933-47d6-9e80-8612bb2f7b15",
      "metadata": {
        "id": "35ad8ed9-9933-47d6-9e80-8612bb2f7b15"
      },
      "source": [
        "**Q)** Complete the following code `fem_for_convection_diffusion_2d`"
      ]
    },
    {
      "cell_type": "code",
      "execution_count": null,
      "id": "1b9a4bdb-8737-4211-a3d3-c25c39f83e1e",
      "metadata": {
        "id": "1b9a4bdb-8737-4211-a3d3-c25c39f83e1e"
      },
      "outputs": [],
      "source": [
        "def fem_for_convection_diffusion_2d(c4n,n4e,n4db,ind4e,M_R,Srr_R,Srs_R,Ssr_R,Sss_R,Dr_R,Ds_R,f,a,epsilon,u_D):\n",
        "\n",
        "    return"
      ]
    },
    {
      "cell_type": "code",
      "execution_count": null,
      "id": "d35e12f0-e2b5-45cf-aa52-9660bb31eb4b",
      "metadata": {
        "id": "d35e12f0-e2b5-45cf-aa52-9660bb31eb4b"
      },
      "outputs": [],
      "source": [
        "iter = 6\n",
        "xl, xr, yl, yr=0, 1, 0, 1\n",
        "M = 2 ** np.arange(2,iter+2)\n",
        "f = lambda x: 0 * x[:,0] + 1\n",
        "u_D = lambda x: 0 * x[:,0]\n",
        "a = np.array([3,1])/np.sqrt(10)\n",
        "epsilon = 1e-4\n",
        "\n",
        "h = 1 / M\n",
        "k = 1\n",
        "error = np.zeros(iter)\n",
        "M_R, Srr_R, Srs_R, Ssr_R, Sss_R, Dr_R, Ds_R = get_matrices_2d_triangle(k)\n",
        "\n",
        "fig = plt.figure(figsize=(10, 6*iter))\n",
        "for i in range(iter):\n",
        "    c4n, n4e, n4db, ind4e = mesh_fem_2d(xl, xr, yl, yr, M[i], M[i], k)\n",
        "    u = fem_for_convection_diffusion_2d(c4n,n4e,n4db,ind4e,M_R,Srr_R,Srs_R,Ssr_R,Sss_R,Dr_R,Ds_R,f,a,epsilon,u_D)\n",
        "    ax = fig.add_subplot(iter, 1, i + 1, projection='3d')\n",
        "    ax.plot_trisurf(c4n[:, 0], c4n[:, 1], u, triangles=n4e, cmap='viridis')\n",
        "    ax.set_title(f'FE solution with h = 1/{M[i]}')\n",
        "    ax.set_xlabel('x')\n",
        "    ax.set_ylabel('y')\n",
        "    ax.set_zlabel('z')\n",
        "    ax.set_zlim([-.5,1.25])\n",
        "    ax.view_init(elev=15, azim= -110)"
      ]
    },
    {
      "cell_type": "code",
      "execution_count": null,
      "id": "1144a41b-aa8a-402b-99a2-2eae4a81c0b3",
      "metadata": {
        "id": "1144a41b-aa8a-402b-99a2-2eae4a81c0b3"
      },
      "outputs": [],
      "source": []
    }
  ],
  "metadata": {
    "kernelspec": {
      "display_name": "Python 3 (ipykernel)",
      "language": "python",
      "name": "python3"
    },
    "language_info": {
      "codemirror_mode": {
        "name": "ipython",
        "version": 3
      },
      "file_extension": ".py",
      "mimetype": "text/x-python",
      "name": "python",
      "nbconvert_exporter": "python",
      "pygments_lexer": "ipython3",
      "version": "3.12.3"
    },
    "colab": {
      "provenance": [],
      "include_colab_link": true
    }
  },
  "nbformat": 4,
  "nbformat_minor": 5
}