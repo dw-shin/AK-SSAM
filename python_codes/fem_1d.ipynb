{
 "cells": [
  {
   "cell_type": "code",
   "execution_count": null,
   "id": "5d4b7145",
   "metadata": {},
   "outputs": [],
   "source": [
    "import numpy as np\n",
    "from scipy.sparse import coo_matrix\n",
    "from scipy.sparse.linalg import spsolve"
   ]
  },
  {
   "cell_type": "code",
   "execution_count": null,
   "id": "c33883c2",
   "metadata": {},
   "outputs": [],
   "source": [
    "def mesh_fem_1d(a,b,M,k):\n",
    "    nrNodes = k*M + 1\n",
    "    c4n = np.linspace(a, b, nrNodes)\n",
    "    n4e = np.array([[i*k, (i+1)*k] for i in range(M)])\n",
    "    n4db = np.array([0, nrNodes-1])\n",
    "    ind4e = np.array([list(range(i*k, (i+1)*k+1)) for i in range(M)])\n",
    "    return (c4n,n4e,n4db,ind4e)"
   ]
  },
  {
   "cell_type": "markdown",
   "id": "aafc1f69-e265-4c9e-b4fb-8326bc28420d",
   "metadata": {},
   "source": [
    "**[Exercise 1]** Add the matrices for the cubic approximations ($k=3$) in **get_matrices_1d**"
   ]
  },
  {
   "cell_type": "code",
   "execution_count": null,
   "id": "c4bcb08a",
   "metadata": {},
   "outputs": [],
   "source": [
    "def get_matrices_1d(k=1):\n",
    "    if k == 1:\n",
    "        M_R = np.array([[2, 1],[1, 2]], dtype=np.float64) / 3.\n",
    "        S_R = np.array([[1, -1],[-1, 1]], dtype=np.float64) / 2.\n",
    "        D_R = np.array([[-1, 1],[-1, 1]], dtype=np.float64) / 2.\n",
    "    elif k == 2:\n",
    "        M_R = np.array([[4, 2, -1],[2, 16, 2],[-1, 2, 4]], dtype=np.float64) / 15.\n",
    "        S_R = np.array([[7, -8, 1],[-8, 16, -8],[1, -8, 7]], dtype=np.float64) / 6.\n",
    "        D_R = np.array([[-3, 4, -1],[-1, 0, 1],[1, -4, 3]], dtype=np.float64) / 2.\n",
    "    elif k == 3:\n",
    "        M_R = np.array([[128, 99, -36, 19], [99, 648, -81, -36],\n",
    "            [-36, -81, 648, 99], [19, -36, 99, 128]], dtype=np.float64) / 840.\n",
    "        S_R = np.array([[148, -189, 54, -13], [-189, 432, -297, 54],\n",
    "            [54, -297, 432, -189], [-13, 54, -189, 148]], dtype=np.float64) / 80.\n",
    "        D_R = np.array([[-11, 18, -9, 2], [-2, -3, 6, -1],\n",
    "            [1, -6, 3, 2], [-2, 9, -18, 11]], dtype=np.float64) / 4.\n",
    "        \n",
    "    ###################################################################################################\n",
    "\t# TODO: Add the matrices for the cubic approximations ($k=3$).\n",
    "\t\n",
    "\t###################################################################################################\t\n",
    "    else:\n",
    "        M_R = 0\n",
    "        S_R = 0\n",
    "        D_R = 0\n",
    "    return (M_R, S_R, D_R)"
   ]
  },
  {
   "cell_type": "code",
   "execution_count": null,
   "id": "23af1c71",
   "metadata": {},
   "outputs": [],
   "source": [
    "def fem_for_poisson_1d(c4n,n4e,n4db,ind4e,k,M_R,S_R,f,u_D):\n",
    "    number_of_nodes = len(c4n)\n",
    "    number_of_elements = len(n4e)\n",
    "    b = np.zeros(number_of_nodes)\n",
    "    u = np.zeros(number_of_nodes)\n",
    "    J = np.array([(c4n[n4e[i,1]]-c4n[n4e[i,0]])/2 for i in range(number_of_elements)])\n",
    "    Aloc = np.array([S_R.flatten()/J[i] for i in range(number_of_elements)])\n",
    "    for i in range(number_of_elements):\n",
    "        b[ind4e[i]] += J[i]*np.matmul(M_R, f(c4n[ind4e[i]]))\n",
    "    row_ind = np.tile(ind4e.flatten(),(k+1,1)).T.flatten()\n",
    "    col_ind = np.tile(ind4e,(1,k+1)).flatten()\n",
    "    A_COO = coo_matrix((Aloc.flatten(), (row_ind, col_ind)), shape=(number_of_nodes, number_of_nodes))\n",
    "    A = A_COO.tocsr()\n",
    "    dof = np.setdiff1d(range(0,number_of_nodes), n4db)\n",
    "    u[dof] = spsolve(A[dof, :].tocsc()[:, dof].tocsr(), b[dof])\n",
    "    return u"
   ]
  },
  {
   "cell_type": "code",
   "execution_count": null,
   "id": "6d4032d8",
   "metadata": {},
   "outputs": [],
   "source": [
    "def compute_error_fem_1d(c4n,ind4e,M_R,D_R,u,Du):\n",
    "    error = 0\n",
    "    number_of_elements = len(ind4e)\n",
    "    J = np.array([(c4n[ind4e[i,-1]]-c4n[ind4e[i,0]])/2 for i in range(number_of_elements)])\n",
    "    for i in range(number_of_elements):\n",
    "        u_x = np.matmul(D_R, u[ind4e[i]]) / J[i]\n",
    "        D_e = Du(c4n[ind4e[i]]) - u_x\n",
    "        error += J[i] * np.matmul(D_e,np.matmul(M_R,D_e))\n",
    "    return np.sqrt(error)"
   ]
  },
  {
   "cell_type": "code",
   "execution_count": null,
   "id": "3a324764",
   "metadata": {},
   "outputs": [],
   "source": [
    "iter = 10\n",
    "a = 0\n",
    "b = 1\n",
    "k = 3\n",
    "M = 2 ** np.arange(2,iter+2)\n",
    "f = lambda x: 25 * np.pi**2 * np.sin(5 * np.pi * x)\n",
    "u_D = lambda x: 0 * x\n",
    "Du = lambda x: 5 * np.pi * np.cos(5 * np.pi * x)\n",
    "\n",
    "error = np.zeros(iter)\n",
    "h = 1 / M"
   ]
  },
  {
   "cell_type": "code",
   "execution_count": null,
   "id": "8db54a56",
   "metadata": {},
   "outputs": [],
   "source": [
    "M_R, S_R, D_R = get_matrices_1d(k)\n",
    "for i in range(iter):\n",
    "    c4n, n4e, n4db, ind4e = mesh_fem_1d(a,b,M[i],k)\n",
    "    u = fem_for_poisson_1d(c4n,n4e,n4db,ind4e,k,M_R,S_R,f,u_D)\n",
    "    error[i] = compute_error_fem_1d(c4n,ind4e,M_R,D_R,u,Du)\n",
    "\n",
    "rate = (np.log(error[1:])-np.log(error[:-1]))/(np.log(h[1:])-np.log(h[:-1]))"
   ]
  },
  {
   "cell_type": "code",
   "execution_count": null,
   "id": "4a12b9b1",
   "metadata": {},
   "outputs": [],
   "source": [
    "print(rate)"
   ]
  },
  {
   "cell_type": "markdown",
   "id": "b6623a59-8c77-41e2-832c-ed610dca6bcc",
   "metadata": {},
   "source": [
    "**[Exercise 2]** Modify **fem_for_poisson_1d_ex2** to solve the Poisson problem with non-homogeneous Dirichlet boundary condition,\n",
    "\\begin{align*}\n",
    "\t\t-u''(x) &= \\ f(x) \\qquad \\textrm{in } \\Omega \\\\\n",
    "\t\tu(x) &= u_D(x) \\quad \\ \\ \\ \\textrm{on } \\partial\\Omega. \\\\\n",
    "\\end{align*}"
   ]
  },
  {
   "cell_type": "code",
   "execution_count": null,
   "id": "9184e725-f22c-42c0-84b2-e0099de69346",
   "metadata": {},
   "outputs": [],
   "source": [
    "def fem_for_poisson_1d_ex2(c4n,n4e,n4db,ind4e,k,M_R,S_R,f,u_D):\n",
    "\tnumber_of_nodes = len(c4n)\n",
    "\tnumber_of_elements = len(n4e)\n",
    "\tb = np.zeros(number_of_nodes)\n",
    "\tu = np.zeros(number_of_nodes)\n",
    "\tJ = np.array([(c4n[n4e[i,1]]-c4n[n4e[i,0]])/2 for i in range(number_of_elements)])\n",
    "\tAloc = np.array([S_R.flatten()/J[i] for i in range(number_of_elements)])\n",
    "\tfor i in range(number_of_elements):\n",
    "\t\tb[ind4e[i]] += J[i]*np.matmul(M_R, f(c4n[ind4e[i]]))\n",
    "\trow_ind = np.tile(ind4e.flatten(),(k+1,1)).T.flatten()\n",
    "\tcol_ind = np.tile(ind4e,(1,k+1)).flatten()\n",
    "\tA_COO = coo_matrix((Aloc.flatten(), (row_ind, col_ind)), shape=(number_of_nodes, number_of_nodes))\n",
    "\tA = A_COO.tocsr()\n",
    "\tdof = np.setdiff1d(range(0,number_of_nodes), n4db)\n",
    "\n",
    "\t###################################################################################################\n",
    "\t# TODO: Add a few lines to treat non-homogeneous Dirichlet boundary condition.\n",
    "\t\n",
    "\t###################################################################################################\n",
    "\n",
    "\tu[dof] = spsolve(A[dof, :].tocsc()[:, dof].tocsr(), b[dof])\n",
    "\treturn u"
   ]
  },
  {
   "cell_type": "code",
   "execution_count": null,
   "id": "f597a3c3-7edb-4f04-8d53-2c3b5dc087c2",
   "metadata": {},
   "outputs": [],
   "source": [
    "iter = 10\n",
    "a = 0\n",
    "b = 1\n",
    "k = 2\n",
    "M = 2 ** np.arange(2,iter+2)\n",
    "f = lambda x: 25 * np.pi**2 * np.sin(5 * np.pi * x)\n",
    "u_D = lambda x: x\n",
    "Du = lambda x: 5 * np.pi * np.cos(5 * np.pi * x) + 1\n",
    "\n",
    "error = np.zeros(iter)\n",
    "h = 1 / M\n",
    "\n",
    "M_R, S_R, D_R = get_matrices_1d(k)\n",
    "for i in range(iter):\n",
    "\tc4n, n4e, n4db, ind4e = mesh_fem_1d(a,b,M[i],k)\n",
    "\tu = fem_for_poisson_1d_ex2(c4n,n4e,n4db,ind4e,k,M_R,S_R,f,u_D)\n",
    "\terror[i] = compute_error_fem_1d(c4n,ind4e,M_R,D_R,u,Du)\n",
    "\n",
    "rate = (np.log(error[1:])-np.log(error[:-1]))/(np.log(h[1:])-np.log(h[:-1]))\n",
    "print(rate)"
   ]
  },
  {
   "cell_type": "markdown",
   "id": "174fb45e-8348-49c4-b074-0779802c3091",
   "metadata": {},
   "source": [
    "**[Exercise 3]** Modify **fem_for_poisson_1d_ex3** to solve the Poisson problem with mixed boundary condition,\n",
    "\\begin{align*}\n",
    "\t\t-u''(x) &= \\ f(x) \\qquad \\textrm{in } \\Omega \\\\\n",
    "\t\tu(x) &= u_D(x) \\qquad \\textrm{on } \\Gamma_D \\\\\n",
    "\t\tu'(x)\\boldsymbol{n} &= u_N(x) \\qquad \\textrm{on } \\Gamma_N,\n",
    "\\end{align*}\n",
    "where $\\Gamma_D$ denotes the Dirichlet boundary, $\\Gamma_N$ denotes the Neumann boundary, and $\\boldsymbol{n}$ is the outward unit normal vector."
   ]
  },
  {
   "cell_type": "code",
   "execution_count": null,
   "id": "4c306862-f5e9-40cf-9228-d3bc9a715a64",
   "metadata": {},
   "outputs": [],
   "source": [
    "def fem_for_poisson_1d_ex3(c4n,n4e,n4db,n4nb,ind4e,k,M_R,S_R,f,u_D,u_N):\n",
    "\tnumber_of_nodes = len(c4n)\n",
    "\tnumber_of_elements = len(n4e)\n",
    "\tb = np.zeros(number_of_nodes)\n",
    "\tu = np.zeros(number_of_nodes)\n",
    "\tJ = np.array([(c4n[n4e[i,1]]-c4n[n4e[i,0]])/2 for i in range(number_of_elements)])\n",
    "\tAloc = np.array([S_R.flatten()/J[i] for i in range(number_of_elements)])\n",
    "\tfor i in range(number_of_elements):\n",
    "\t\tb[ind4e[i]] += J[i]*np.matmul(M_R, f(c4n[ind4e[i]]))\n",
    "\trow_ind = np.tile(ind4e.flatten(),(k+1,1)).T.flatten()\n",
    "\tcol_ind = np.tile(ind4e,(1,k+1)).flatten()\n",
    "\tA_COO = coo_matrix((Aloc.flatten(), (row_ind, col_ind)), shape=(number_of_nodes, number_of_nodes))\n",
    "\tA = A_COO.tocsr()\n",
    "\tdof = np.setdiff1d(range(0,number_of_nodes), n4db)\n",
    "\n",
    "\t###################################################################################################\n",
    "\t# TODO: Add a few lines to treat Neumann boundary condition.\n",
    "\t\n",
    "\t###################################################################################################\n",
    "\n",
    "\t###################################################################################################\n",
    "\t# TODO: Add a few lines to treat non-homogeneous Dirichlet boundary condition. \n",
    "\t#       If you finished Exercise 2, the following lines can be copied from `fem_for_poisson_1d_ex2`\n",
    "\t\n",
    "\t###################################################################################################\n",
    "\n",
    "\tu[dof] = spsolve(A[dof, :].tocsc()[:, dof].tocsr(), b[dof])\n",
    "\treturn u"
   ]
  },
  {
   "cell_type": "code",
   "execution_count": null,
   "id": "b3c2ccdc-e421-4188-9d8c-3a917891cd87",
   "metadata": {},
   "outputs": [],
   "source": [
    "iter = 10\n",
    "a = 0\n",
    "b = 1\n",
    "k = 1\n",
    "M = 2 ** np.arange(2,iter+2)\n",
    "f = lambda x: 25 * np.pi**2 * np.sin(5 * np.pi * x)\n",
    "u_D = lambda x: x\n",
    "u_N = lambda x: -5 * np.pi * np.cos(5 * np.pi * x) - 1\n",
    "Du = lambda x: 5 * np.pi * np.cos(5 * np.pi * x) + 1\n",
    "\n",
    "error = np.zeros(iter)\n",
    "h = 1 / M\n",
    "\n",
    "M_R, S_R, D_R = get_matrices_1d(k)\n",
    "for i in range(iter):\n",
    "\tc4n, n4e, n4db, ind4e = mesh_fem_1d(a,b,M[i],k)\n",
    "\tn4nb = n4db[0]\n",
    "\tn4db = n4db[1]\n",
    "\tu = fem_for_poisson_1d_ex3(c4n,n4e,n4db,n4nb,ind4e,k,M_R,S_R,f,u_D,u_N)\n",
    "\terror[i] = compute_error_fem_1d(c4n,ind4e,M_R,D_R,u,Du)\n",
    "\n",
    "rate = (np.log(error[1:])-np.log(error[:-1]))/(np.log(h[1:])-np.log(h[:-1]))\n",
    "print(rate)"
   ]
  }
 ],
 "metadata": {
  "kernelspec": {
   "display_name": "Python 3 (ipykernel)",
   "language": "python",
   "name": "python3"
  },
  "language_info": {
   "codemirror_mode": {
    "name": "ipython",
    "version": 3
   },
   "file_extension": ".py",
   "mimetype": "text/x-python",
   "name": "python",
   "nbconvert_exporter": "python",
   "pygments_lexer": "ipython3",
   "version": "3.12.3"
  },
  "toc": {
   "base_numbering": 1,
   "nav_menu": {},
   "number_sections": true,
   "sideBar": true,
   "skip_h1_title": false,
   "title_cell": "Table of Contents",
   "title_sidebar": "Contents",
   "toc_cell": false,
   "toc_position": {},
   "toc_section_display": true,
   "toc_window_display": false
  },
  "varInspector": {
   "cols": {
    "lenName": 16,
    "lenType": 16,
    "lenVar": 40
   },
   "kernels_config": {
    "python": {
     "delete_cmd_postfix": "",
     "delete_cmd_prefix": "del ",
     "library": "var_list.py",
     "varRefreshCmd": "print(var_dic_list())"
    },
    "r": {
     "delete_cmd_postfix": ") ",
     "delete_cmd_prefix": "rm(",
     "library": "var_list.r",
     "varRefreshCmd": "cat(var_dic_list()) "
    }
   },
   "types_to_exclude": [
    "module",
    "function",
    "builtin_function_or_method",
    "instance",
    "_Feature"
   ],
   "window_display": false
  }
 },
 "nbformat": 4,
 "nbformat_minor": 5
}
